{
 "cells": [
  {
   "cell_type": "markdown",
   "metadata": {},
   "source": [
    "# Pymaceuticals\n",
    "* Trend 1\n",
    "* Trend 2\n",
    "* Trend 3"
   ]
  },
  {
   "cell_type": "markdown",
   "metadata": {},
   "source": [
    "## Import dependencies and specify filepaths\n",
    "* Files will be local to avoid needing to use relative filepaths"
   ]
  },
  {
   "cell_type": "code",
   "execution_count": 11,
   "metadata": {},
   "outputs": [],
   "source": [
    "import pandas as pd\n",
    "import numpy as np\n",
    "import matplotlib.pyplot as plt\n",
    "import seaborn as sns\n",
    "clinicaldf = pd.read_csv('clinicaltrial_data.csv')\n",
    "mousedf = pd.read_csv('mouse_drug_data.csv')"
   ]
  },
  {
   "cell_type": "markdown",
   "metadata": {},
   "source": [
    "## Tumor Size Response to Drug Treatment"
   ]
  },
  {
   "cell_type": "code",
   "execution_count": 107,
   "metadata": {
    "scrolled": true
   },
   "outputs": [
    {
     "data": {
      "text/plain": [
       "Drug       Timepoint\n",
       "Capomulin  0            45.000000\n",
       "           5            44.266086\n",
       "           10           43.084291\n",
       "           15           42.064317\n",
       "           20           40.716325\n",
       "           25           39.939528\n",
       "           30           38.769339\n",
       "           35           37.816839\n",
       "           40           36.958001\n",
       "           45           36.236114\n",
       "Ceftamin   0            45.000000\n",
       "           5            46.503051\n",
       "           10           48.285125\n",
       "           15           50.094055\n",
       "           20           52.157049\n",
       "           25           54.287674\n",
       "           30           56.769517\n",
       "           35           58.827548\n",
       "           40           61.467895\n",
       "           45           64.132421\n",
       "Infubinol  0            45.000000\n",
       "           5            47.062001\n",
       "           10           49.403909\n",
       "           15           51.296397\n",
       "           20           53.197691\n",
       "           25           55.715252\n",
       "           30           58.299397\n",
       "           35           60.742461\n",
       "           40           63.162824\n",
       "           45           65.755562\n",
       "                          ...    \n",
       "Ramicane   0            45.000000\n",
       "           5            43.944859\n",
       "           10           42.531957\n",
       "           15           41.495061\n",
       "           20           40.238325\n",
       "           25           38.974300\n",
       "           30           38.703137\n",
       "           35           37.451996\n",
       "           40           36.574081\n",
       "           45           34.955595\n",
       "Stelasyn   0            45.000000\n",
       "           5            47.527452\n",
       "           10           49.463844\n",
       "           15           51.529409\n",
       "           20           54.067395\n",
       "           25           56.166123\n",
       "           30           59.826738\n",
       "           35           62.440699\n",
       "           40           65.356386\n",
       "           45           68.438310\n",
       "Zoniferol  0            45.000000\n",
       "           5            46.851818\n",
       "           10           48.689881\n",
       "           15           50.779059\n",
       "           20           53.170334\n",
       "           25           55.432935\n",
       "           30           57.713531\n",
       "           35           60.089372\n",
       "           40           62.916692\n",
       "           45           65.960888\n",
       "Name: Tumor Volume (mm3), Length: 100, dtype: float64"
      ]
     },
     "execution_count": 107,
     "metadata": {},
     "output_type": "execute_result"
    }
   ],
   "source": [
    "datadf = clinicaldf.merge(mousedf,on=['Mouse ID'],how='inner')\n",
    "#Use groupby to groupby drug and timepoint\n",
    "datadf_groupby = datadf.groupby(['Drug','Timepoint'])\n",
    "#Use the mean method on the Drug/Timepoint groupby to average tumor size across all mice\n",
    "groupby_meantumor = datadf_groupby['Tumor Volume (mm3)'].mean()\n",
    "meantumordf = pd.DataFrame(data=)\n",
    "#tumor_response_pivot = tumor_response.pivot(index=['Timepoint'],columns=['Drug'])\n",
    "#plt.errorbar(x=x_axis,y=groupby_meantumor,yerr=groupby_semtumor)"
   ]
  },
  {
   "cell_type": "code",
   "execution_count": null,
   "metadata": {},
   "outputs": [],
   "source": []
  }
 ],
 "metadata": {
  "kernelspec": {
   "display_name": "Python 3",
   "language": "python",
   "name": "python3"
  },
  "language_info": {
   "codemirror_mode": {
    "name": "ipython",
    "version": 3
   },
   "file_extension": ".py",
   "mimetype": "text/x-python",
   "name": "python",
   "nbconvert_exporter": "python",
   "pygments_lexer": "ipython3",
   "version": "3.6.4"
  }
 },
 "nbformat": 4,
 "nbformat_minor": 2
}
